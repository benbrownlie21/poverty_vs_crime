{
 "cells": [
  {
   "cell_type": "code",
   "execution_count": 2,
   "id": "babaa0c7-7d47-4bc4-9c6d-e800a73393a9",
   "metadata": {},
   "outputs": [],
   "source": [
    "import pandas as pd\n",
    "from functools import reduce"
   ]
  },
  {
   "cell_type": "markdown",
   "id": "30c445f3-f901-472f-a363-6b0e7bae04e4",
   "metadata": {},
   "source": [
    "**CRIME DATA**\n",
    "\n",
    "Below I have created dataframes for the crime data"
   ]
  },
  {
   "cell_type": "code",
   "execution_count": 10,
   "id": "e534869e-acaf-4bbe-937d-6fe792288b21",
   "metadata": {},
   "outputs": [],
   "source": [
    "cr_df = pd.read_csv('crime-rate-by-state-2024.csv')\n",
    "dv_df = pd.read_csv('domestic-violence-by-state-2024.csv')\n",
    "gv_df = pd.read_csv('gun-violence-by-state-2024.csv')\n",
    "op_df = pd.read_csv('opioid-epidemic-by-state-2024.csv')"
   ]
  },
  {
   "cell_type": "markdown",
   "id": "b5f813f5-ac10-47c2-a7ac-aaa6a9d7f016",
   "metadata": {},
   "source": [
    "Below I am checking all of the crime dataframes for null values"
   ]
  },
  {
   "cell_type": "code",
   "execution_count": 12,
   "id": "8479dd1e-0c8c-46dd-9230-66e8e5dd9f32",
   "metadata": {},
   "outputs": [
    {
     "name": "stdout",
     "output_type": "stream",
     "text": [
      "<class 'pandas.core.frame.DataFrame'>\n",
      "RangeIndex: 51 entries, 0 to 50\n",
      "Data columns (total 8 columns):\n",
      " #   Column               Non-Null Count  Dtype  \n",
      "---  ------               --------------  -----  \n",
      " 0   state                51 non-null     object \n",
      " 1   Population2020       51 non-null     int64  \n",
      " 2   CrimeReported        51 non-null     int64  \n",
      " 3   CrimeRate            51 non-null     float64\n",
      " 4   CrimeViolent         51 non-null     int64  \n",
      " 5   CrimeViolentRate     51 non-null     float64\n",
      " 6   CrimeNonViolent      51 non-null     int64  \n",
      " 7   CrimeNonViolentRate  51 non-null     float64\n",
      "dtypes: float64(3), int64(4), object(1)\n",
      "memory usage: 3.3+ KB\n"
     ]
    }
   ],
   "source": [
    "cr_df.info()"
   ]
  },
  {
   "cell_type": "code",
   "execution_count": 14,
   "id": "be4bbee9-7033-4ce3-99d6-cd199d202a5a",
   "metadata": {},
   "outputs": [
    {
     "name": "stdout",
     "output_type": "stream",
     "text": [
      "<class 'pandas.core.frame.DataFrame'>\n",
      "RangeIndex: 52 entries, 0 to 51\n",
      "Data columns (total 3 columns):\n",
      " #   Column                        Non-Null Count  Dtype  \n",
      "---  ------                        --------------  -----  \n",
      " 0   state                         52 non-null     object \n",
      " 1   DomesticViolenceAgainstWomen  51 non-null     float64\n",
      " 2   DomesticViolenceAgainstMen    52 non-null     float64\n",
      "dtypes: float64(2), object(1)\n",
      "memory usage: 1.3+ KB\n"
     ]
    }
   ],
   "source": [
    "dv_df.info()"
   ]
  },
  {
   "cell_type": "code",
   "execution_count": 35,
   "id": "61c24137-4e95-41ed-a883-119cef28e189",
   "metadata": {},
   "outputs": [],
   "source": [
    "dv_df['DomesticViolenceAgainstWomen'] = dv_df['DomesticViolenceAgainstWomen'].fillna(dv_df['DomesticViolenceAgainstWomen'].median())"
   ]
  },
  {
   "cell_type": "code",
   "execution_count": 16,
   "id": "44143e67-bea1-4f63-8a7a-047ed8b0282c",
   "metadata": {},
   "outputs": [
    {
     "name": "stdout",
     "output_type": "stream",
     "text": [
      "<class 'pandas.core.frame.DataFrame'>\n",
      "RangeIndex: 51 entries, 0 to 50\n",
      "Data columns (total 6 columns):\n",
      " #   Column                                Non-Null Count  Dtype  \n",
      "---  ------                                --------------  -----  \n",
      " 0   state                                 51 non-null     object \n",
      " 1   deathRatePer100k2021                  51 non-null     float64\n",
      " 2   GunViolenceTotalDeaths2021            50 non-null     float64\n",
      " 3   GunViolencePermitForFirearmOwnership  14 non-null     object \n",
      " 4   GunViolenceTotalDeaths2020            50 non-null     float64\n",
      " 5   deathRatePer100k                      51 non-null     float64\n",
      "dtypes: float64(4), object(2)\n",
      "memory usage: 2.5+ KB\n"
     ]
    }
   ],
   "source": [
    "gv_df.info()"
   ]
  },
  {
   "cell_type": "markdown",
   "id": "258cfeae-f43a-4afb-8bf5-5e1841856de8",
   "metadata": {},
   "source": [
    "Below I dropped the column 'GunViolencePermitForFirearmOwnership' because more than half of the data was null and then I am filling the two nulls with median data"
   ]
  },
  {
   "cell_type": "code",
   "execution_count": 25,
   "id": "2f6b70d5-138d-48ee-a4c2-e4082774c2d2",
   "metadata": {},
   "outputs": [
    {
     "name": "stdout",
     "output_type": "stream",
     "text": [
      "<class 'pandas.core.frame.DataFrame'>\n",
      "RangeIndex: 51 entries, 0 to 50\n",
      "Data columns (total 5 columns):\n",
      " #   Column                      Non-Null Count  Dtype  \n",
      "---  ------                      --------------  -----  \n",
      " 0   state                       51 non-null     object \n",
      " 1   deathRatePer100k2021        51 non-null     float64\n",
      " 2   GunViolenceTotalDeaths2021  50 non-null     float64\n",
      " 3   GunViolenceTotalDeaths2020  50 non-null     float64\n",
      " 4   deathRatePer100k            51 non-null     float64\n",
      "dtypes: float64(4), object(1)\n",
      "memory usage: 2.1+ KB\n"
     ]
    }
   ],
   "source": [
    "gv_df2 = gv_df.drop(['GunViolencePermitForFirearmOwnership'], axis=1)\n",
    "gv_df2.info()"
   ]
  },
  {
   "cell_type": "code",
   "execution_count": 31,
   "id": "cb923d04-4f2d-48c0-9d07-509f8400dc76",
   "metadata": {},
   "outputs": [],
   "source": [
    "gv_df2['GunViolenceTotalDeaths2021'] = gv_df2['GunViolenceTotalDeaths2021'].fillna(gv_df2['GunViolenceTotalDeaths2021'].median())"
   ]
  },
  {
   "cell_type": "code",
   "execution_count": 33,
   "id": "500aba04-d642-4114-8d06-e543a68f2960",
   "metadata": {},
   "outputs": [],
   "source": [
    "gv_df2['GunViolenceTotalDeaths2020'] = gv_df2['GunViolenceTotalDeaths2020'].fillna(gv_df2['GunViolenceTotalDeaths2020'].median())"
   ]
  },
  {
   "cell_type": "code",
   "execution_count": 18,
   "id": "05d62dce-1725-4abf-9bee-b2c5a29d1b43",
   "metadata": {},
   "outputs": [
    {
     "name": "stdout",
     "output_type": "stream",
     "text": [
      "<class 'pandas.core.frame.DataFrame'>\n",
      "RangeIndex: 50 entries, 0 to 49\n",
      "Data columns (total 3 columns):\n",
      " #   Column                                       Non-Null Count  Dtype  \n",
      "---  ------                                       --------------  -----  \n",
      " 0   state                                        50 non-null     object \n",
      " 1   OpioidEpidemic2021DeathRatePer100kResidents  50 non-null     float64\n",
      " 2   OpioidEpidemic2021Deaths                     50 non-null     int64  \n",
      "dtypes: float64(1), int64(1), object(1)\n",
      "memory usage: 1.3+ KB\n"
     ]
    }
   ],
   "source": [
    "op_df.info()"
   ]
  },
  {
   "cell_type": "markdown",
   "id": "3b208989-dcf5-47f9-87ec-57e05f8feb61",
   "metadata": {},
   "source": [
    "Below I am saving the ammended dataframe"
   ]
  },
  {
   "cell_type": "code",
   "execution_count": 73,
   "id": "10d554e2-0044-4857-9fd7-3b9e7ed00597",
   "metadata": {},
   "outputs": [],
   "source": [
    "gv_df2.to_csv('gun-violence-by-state-2024-new.csv')"
   ]
  },
  {
   "cell_type": "markdown",
   "id": "afd1b839-9590-4acc-8a64-8cfae0fb819d",
   "metadata": {},
   "source": [
    "**Education and Living DATA**\r\n",
    "\r\n",
    "Below I have created dataframes for theducation and livingme da - the living data includes poverty, employment, income, cost of livingta"
   ]
  },
  {
   "cell_type": "code",
   "execution_count": 38,
   "id": "56981222-ab7d-4ede-b103-5d3f7964da79",
   "metadata": {},
   "outputs": [],
   "source": [
    "ais_df = pd.read_csv('average-income-by-state-2024.csv')\n",
    "cps_df = pd.read_csv('child-poverty-rate-by-state-2024.csv')\n",
    "cgs_df = pd.read_csv('college-graduation-rates-by-state-2024.csv')\n",
    "cls_df = pd.read_csv('cost-of-living-index-by-state-2024.csv')\n",
    "ers_df = pd.read_csv('employment-rate-by-state-2024.csv')\n",
    "hsg_df = pd.read_csv('high-school-graduation-rates-by-state-2024.csv')\n",
    "prs_df = pd.read_csv('poverty-rate-by-state-2024.csv')\n",
    "urs_df = pd.read_csv('unemployment-rate-by-state-2024.csv')\n",
    "lrs_df = pd.read_csv('literacy-rates-by-state-2024.csv')"
   ]
  },
  {
   "cell_type": "markdown",
   "id": "41465a7b-6946-406d-bd4b-07a142abcbee",
   "metadata": {},
   "source": [
    "Below I am checking all of the crime dataframes for null values"
   ]
  },
  {
   "cell_type": "code",
   "execution_count": 40,
   "id": "8b0b4a0a-3802-4e4c-ba4e-6c6291c957ad",
   "metadata": {},
   "outputs": [
    {
     "name": "stdout",
     "output_type": "stream",
     "text": [
      "<class 'pandas.core.frame.DataFrame'>\n",
      "RangeIndex: 52 entries, 0 to 51\n",
      "Data columns (total 3 columns):\n",
      " #   Column                      Non-Null Count  Dtype  \n",
      "---  ------                      --------------  -----  \n",
      " 0   state                       52 non-null     object \n",
      " 1   AverageIncomePerCapita2022  52 non-null     float64\n",
      " 2   AverageIncomePerCapita2021  52 non-null     float64\n",
      "dtypes: float64(2), object(1)\n",
      "memory usage: 1.3+ KB\n"
     ]
    }
   ],
   "source": [
    "ais_df.info()"
   ]
  },
  {
   "cell_type": "code",
   "execution_count": 42,
   "id": "f339348b-88ee-4faa-aae6-e98f5080d9fc",
   "metadata": {},
   "outputs": [
    {
     "name": "stdout",
     "output_type": "stream",
     "text": [
      "<class 'pandas.core.frame.DataFrame'>\n",
      "RangeIndex: 52 entries, 0 to 51\n",
      "Data columns (total 4 columns):\n",
      " #   Column             Non-Null Count  Dtype  \n",
      "---  ------             --------------  -----  \n",
      " 0   state              52 non-null     object \n",
      " 1   ChildPovertyRate   52 non-null     float64\n",
      " 2   ChildPovertyCount  52 non-null     int64  \n",
      " 3   Under18            52 non-null     int64  \n",
      "dtypes: float64(1), int64(2), object(1)\n",
      "memory usage: 1.8+ KB\n"
     ]
    }
   ],
   "source": [
    "cps_df.info()"
   ]
  },
  {
   "cell_type": "code",
   "execution_count": 44,
   "id": "d30603bf-d103-4b82-84fc-633ace0f90e0",
   "metadata": {},
   "outputs": [
    {
     "name": "stdout",
     "output_type": "stream",
     "text": [
      "<class 'pandas.core.frame.DataFrame'>\n",
      "RangeIndex: 52 entries, 0 to 51\n",
      "Data columns (total 2 columns):\n",
      " #   Column   Non-Null Count  Dtype  \n",
      "---  ------   --------------  -----  \n",
      " 0   state    52 non-null     object \n",
      " 1   College  52 non-null     float64\n",
      "dtypes: float64(1), object(1)\n",
      "memory usage: 960.0+ bytes\n"
     ]
    }
   ],
   "source": [
    "cgs_df.info()"
   ]
  },
  {
   "cell_type": "code",
   "execution_count": 46,
   "id": "3cd42e72-083e-4b19-8320-51aab329c252",
   "metadata": {},
   "outputs": [
    {
     "name": "stdout",
     "output_type": "stream",
     "text": [
      "<class 'pandas.core.frame.DataFrame'>\n",
      "RangeIndex: 51 entries, 0 to 50\n",
      "Data columns (total 8 columns):\n",
      " #   Column                                     Non-Null Count  Dtype  \n",
      "---  ------                                     --------------  -----  \n",
      " 0   state                                      51 non-null     object \n",
      " 1   CostOfLivingIndex2023                      51 non-null     float64\n",
      " 2   CostOfLivingIndexGroceryCostsIndex         51 non-null     float64\n",
      " 3   CostOfLivingIndexHealthCostsIndex          51 non-null     float64\n",
      " 4   CostOfLivingIndexHousingCostsIndex         51 non-null     float64\n",
      " 5   CostOfLivingIndexMiscCostsIndex            51 non-null     float64\n",
      " 6   CostOfLivingIndexTransportationCostsIndex  51 non-null     float64\n",
      " 7   CostOfLivingIndexUtilityCostsIndex         51 non-null     float64\n",
      "dtypes: float64(7), object(1)\n",
      "memory usage: 3.3+ KB\n"
     ]
    }
   ],
   "source": [
    "cls_df.info()"
   ]
  },
  {
   "cell_type": "code",
   "execution_count": 48,
   "id": "72e970c3-4748-4059-920f-7ff565d89cce",
   "metadata": {},
   "outputs": [
    {
     "name": "stdout",
     "output_type": "stream",
     "text": [
      "<class 'pandas.core.frame.DataFrame'>\n",
      "RangeIndex: 51 entries, 0 to 50\n",
      "Data columns (total 2 columns):\n",
      " #   Column                   Non-Null Count  Dtype  \n",
      "---  ------                   --------------  -----  \n",
      " 0   state                    51 non-null     object \n",
      " 1   EmploymentRateMarch2023  51 non-null     float64\n",
      "dtypes: float64(1), object(1)\n",
      "memory usage: 944.0+ bytes\n"
     ]
    }
   ],
   "source": [
    "ers_df.info()"
   ]
  },
  {
   "cell_type": "code",
   "execution_count": 50,
   "id": "53d5dd84-dbf9-4818-9d01-ff5b7bbe229d",
   "metadata": {},
   "outputs": [
    {
     "name": "stdout",
     "output_type": "stream",
     "text": [
      "<class 'pandas.core.frame.DataFrame'>\n",
      "RangeIndex: 52 entries, 0 to 51\n",
      "Data columns (total 2 columns):\n",
      " #   Column      Non-Null Count  Dtype  \n",
      "---  ------      --------------  -----  \n",
      " 0   state       52 non-null     object \n",
      " 1   HighSchool  52 non-null     float64\n",
      "dtypes: float64(1), object(1)\n",
      "memory usage: 960.0+ bytes\n"
     ]
    }
   ],
   "source": [
    "hsg_df.info()"
   ]
  },
  {
   "cell_type": "code",
   "execution_count": 52,
   "id": "a36e34d5-4dd1-4e70-abf9-f16ccd986c2d",
   "metadata": {},
   "outputs": [
    {
     "name": "stdout",
     "output_type": "stream",
     "text": [
      "<class 'pandas.core.frame.DataFrame'>\n",
      "RangeIndex: 51 entries, 0 to 50\n",
      "Data columns (total 3 columns):\n",
      " #   Column                                            Non-Null Count  Dtype  \n",
      "---  ------                                            --------------  -----  \n",
      " 0   state                                             51 non-null     object \n",
      " 1   PovertyRatesPopulationBelowPovertyLevel           51 non-null     int64  \n",
      " 2   PovertyRatesPercentOfPopulationBelowPovertyLevel  51 non-null     float64\n",
      "dtypes: float64(1), int64(1), object(1)\n",
      "memory usage: 1.3+ KB\n"
     ]
    }
   ],
   "source": [
    "prs_df.info()"
   ]
  },
  {
   "cell_type": "code",
   "execution_count": 54,
   "id": "bfd8e236-04ad-40d1-847d-7fc9fdaae777",
   "metadata": {},
   "outputs": [
    {
     "name": "stdout",
     "output_type": "stream",
     "text": [
      "<class 'pandas.core.frame.DataFrame'>\n",
      "RangeIndex: 51 entries, 0 to 50\n",
      "Data columns (total 4 columns):\n",
      " #   Column                    Non-Null Count  Dtype  \n",
      "---  ------                    --------------  -----  \n",
      " 0   state                     51 non-null     object \n",
      " 1   UnemploymentRateJuly2023  51 non-null     float64\n",
      " 2   UnemploymentRateJuly2022  51 non-null     float64\n",
      " 3   UnemploymentRateJuly2021  51 non-null     float64\n",
      "dtypes: float64(3), object(1)\n",
      "memory usage: 1.7+ KB\n"
     ]
    }
   ],
   "source": [
    "urs_df.info()"
   ]
  },
  {
   "cell_type": "code",
   "execution_count": 56,
   "id": "849796a1-79e3-4761-b64c-9a9b89f1b666",
   "metadata": {},
   "outputs": [
    {
     "name": "stdout",
     "output_type": "stream",
     "text": [
      "<class 'pandas.core.frame.DataFrame'>\n",
      "RangeIndex: 50 entries, 0 to 49\n",
      "Data columns (total 3 columns):\n",
      " #   Column                                               Non-Null Count  Dtype  \n",
      "---  ------                                               --------------  -----  \n",
      " 0   state                                                50 non-null     object \n",
      " 1   LiteracyRatesPercofPopulationWithLowLiteracy         50 non-null     float64\n",
      " 2   LiteracyRatesPercof4thGradersBelowBasicReadingLevel  50 non-null     int64  \n",
      "dtypes: float64(1), int64(1), object(1)\n",
      "memory usage: 1.3+ KB\n"
     ]
    }
   ],
   "source": [
    "lrs_df.info()"
   ]
  },
  {
   "cell_type": "markdown",
   "id": "67ee85ad-e2bd-4e98-bb24-0a4a93383c82",
   "metadata": {},
   "source": [
    "Below I have merged the dataframes cgs_df and hsg_df into one dataframe --> these are for college graduates and high school graduates"
   ]
  },
  {
   "cell_type": "code",
   "execution_count": 67,
   "id": "eb4303eb-80fc-4155-a198-7f7836faef91",
   "metadata": {},
   "outputs": [],
   "source": [
    "comb_eds_df = pd.merge(cgs_df, hsg_df, on='state', how='inner')"
   ]
  },
  {
   "cell_type": "code",
   "execution_count": 69,
   "id": "9c5d5166-8b2a-42cf-a034-0477e6e91b09",
   "metadata": {},
   "outputs": [
    {
     "name": "stdout",
     "output_type": "stream",
     "text": [
      "<class 'pandas.core.frame.DataFrame'>\n",
      "RangeIndex: 52 entries, 0 to 51\n",
      "Data columns (total 3 columns):\n",
      " #   Column      Non-Null Count  Dtype  \n",
      "---  ------      --------------  -----  \n",
      " 0   state       52 non-null     object \n",
      " 1   College     52 non-null     float64\n",
      " 2   HighSchool  52 non-null     float64\n",
      "dtypes: float64(2), object(1)\n",
      "memory usage: 1.3+ KB\n"
     ]
    }
   ],
   "source": [
    "comb_eds_df.info()"
   ]
  },
  {
   "cell_type": "markdown",
   "id": "dc0ffa7a-1949-4376-ab47-6f5453af4013",
   "metadata": {},
   "source": [
    "Below I am saving the ammended dataframe"
   ]
  },
  {
   "cell_type": "code",
   "execution_count": 76,
   "id": "6faace93-65cb-4c98-8862-082171dc65d9",
   "metadata": {},
   "outputs": [],
   "source": [
    "comb_eds_df.to_csv('education-graduates-2024-new.csv')"
   ]
  },
  {
   "cell_type": "markdown",
   "id": "7bed5f3d-a270-439a-98d6-eff976362173",
   "metadata": {},
   "source": [
    "Below I am combining dataframes from the crime set and from the education and living set"
   ]
  },
  {
   "cell_type": "code",
   "execution_count": 79,
   "id": "f679f9f2-f06b-4b42-9239-85da990e4536",
   "metadata": {},
   "outputs": [],
   "source": [
    "comb_all_dfs = reduce(lambda x,y: pd.merge(x,y, on='state', how='outer'), [cr_df, gv_df2, dv_df, prs_df, lrs_df, comb_eds_df])"
   ]
  },
  {
   "cell_type": "code",
   "execution_count": 87,
   "id": "56c6689f-2cd1-4529-bab0-f509686dbbf4",
   "metadata": {},
   "outputs": [
    {
     "name": "stdout",
     "output_type": "stream",
     "text": [
      "<class 'pandas.core.frame.DataFrame'>\n",
      "RangeIndex: 52 entries, 0 to 51\n",
      "Data columns (total 20 columns):\n",
      " #   Column                                               Non-Null Count  Dtype  \n",
      "---  ------                                               --------------  -----  \n",
      " 0   state                                                52 non-null     object \n",
      " 1   Population2020                                       51 non-null     float64\n",
      " 2   CrimeReported                                        51 non-null     float64\n",
      " 3   CrimeRate                                            51 non-null     float64\n",
      " 4   CrimeViolent                                         51 non-null     float64\n",
      " 5   CrimeViolentRate                                     51 non-null     float64\n",
      " 6   CrimeNonViolent                                      51 non-null     float64\n",
      " 7   CrimeNonViolentRate                                  51 non-null     float64\n",
      " 8   deathRatePer100k2021                                 51 non-null     float64\n",
      " 9   GunViolenceTotalDeaths2021                           51 non-null     float64\n",
      " 10  GunViolenceTotalDeaths2020                           51 non-null     float64\n",
      " 11  deathRatePer100k                                     51 non-null     float64\n",
      " 12  DomesticViolenceAgainstWomen                         52 non-null     float64\n",
      " 13  DomesticViolenceAgainstMen                           52 non-null     float64\n",
      " 14  PovertyRatesPopulationBelowPovertyLevel              51 non-null     float64\n",
      " 15  PovertyRatesPercentOfPopulationBelowPovertyLevel     51 non-null     float64\n",
      " 16  LiteracyRatesPercofPopulationWithLowLiteracy         50 non-null     float64\n",
      " 17  LiteracyRatesPercof4thGradersBelowBasicReadingLevel  50 non-null     float64\n",
      " 18  College                                              52 non-null     float64\n",
      " 19  HighSchool                                           52 non-null     float64\n",
      "dtypes: float64(19), object(1)\n",
      "memory usage: 8.2+ KB\n"
     ]
    }
   ],
   "source": [
    "comb_all_dfs.info()"
   ]
  },
  {
   "cell_type": "code",
   "execution_count": 85,
   "id": "cde2936f-56dc-4242-a7b1-b9c776af374a",
   "metadata": {},
   "outputs": [],
   "source": [
    "comb_all_dfs.to_csv('combined_data.csv')"
   ]
  }
 ],
 "metadata": {
  "kernelspec": {
   "display_name": "Python 3 (ipykernel)",
   "language": "python",
   "name": "python3"
  },
  "language_info": {
   "codemirror_mode": {
    "name": "ipython",
    "version": 3
   },
   "file_extension": ".py",
   "mimetype": "text/x-python",
   "name": "python",
   "nbconvert_exporter": "python",
   "pygments_lexer": "ipython3",
   "version": "3.9.17"
  }
 },
 "nbformat": 4,
 "nbformat_minor": 5
}
